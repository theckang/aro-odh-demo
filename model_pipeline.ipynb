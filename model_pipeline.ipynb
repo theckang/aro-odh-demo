{
 "cells": [
  {
   "cell_type": "code",
   "execution_count": 1,
   "metadata": {},
   "outputs": [
    {
     "name": "stdout",
     "output_type": "stream",
     "text": [
      "Requirement already satisfied: azure-storage-file-datalake in /opt/app-root/lib/python3.6/site-packages (12.3.0)\n",
      "Requirement already satisfied: azure-identity in /opt/app-root/lib/python3.6/site-packages (1.5.0)\n",
      "Requirement already satisfied: azure-storage-blob in /opt/app-root/lib/python3.6/site-packages (12.8.0)\n",
      "Requirement already satisfied: msrest>=0.6.18 in /opt/app-root/lib/python3.6/site-packages (from azure-storage-file-datalake) (0.6.21)\n",
      "Requirement already satisfied: azure-core<2.0.0,>=1.10.0 in /opt/app-root/lib/python3.6/site-packages (from azure-storage-file-datalake) (1.12.0)\n",
      "Requirement already satisfied: msal<2.0.0,>=1.6.0 in /opt/app-root/lib/python3.6/site-packages (from azure-identity) (1.10.0)\n",
      "Requirement already satisfied: msal-extensions~=0.3.0 in /opt/app-root/lib/python3.6/site-packages (from azure-identity) (0.3.0)\n",
      "Requirement already satisfied: cryptography>=2.1.4 in /opt/app-root/lib/python3.6/site-packages (from azure-identity) (3.4.6)\n",
      "Requirement already satisfied: six>=1.6 in /opt/app-root/lib/python3.6/site-packages (from azure-identity) (1.14.0)\n",
      "Requirement already satisfied: isodate>=0.6.0 in /opt/app-root/lib/python3.6/site-packages (from msrest>=0.6.18->azure-storage-file-datalake) (0.6.0)\n",
      "Requirement already satisfied: certifi>=2017.4.17 in /opt/app-root/lib/python3.6/site-packages (from msrest>=0.6.18->azure-storage-file-datalake) (2019.11.28)\n",
      "Requirement already satisfied: requests~=2.16 in /opt/app-root/lib/python3.6/site-packages (from msrest>=0.6.18->azure-storage-file-datalake) (2.23.0)\n",
      "Requirement already satisfied: requests-oauthlib>=0.5.0 in /opt/app-root/lib/python3.6/site-packages (from msrest>=0.6.18->azure-storage-file-datalake) (1.3.0)\n",
      "Requirement already satisfied: PyJWT[crypto]<3,>=1.0.0 in /opt/app-root/lib/python3.6/site-packages (from msal<2.0.0,>=1.6.0->azure-identity) (2.0.1)\n",
      "Requirement already satisfied: portalocker~=1.0; platform_system != \"Windows\" in /opt/app-root/lib/python3.6/site-packages (from msal-extensions~=0.3.0->azure-identity) (1.7.1)\n",
      "Requirement already satisfied: cffi>=1.12 in /opt/app-root/lib/python3.6/site-packages (from cryptography>=2.1.4->azure-identity) (1.14.5)\n",
      "Requirement already satisfied: idna<3,>=2.5 in /opt/app-root/lib/python3.6/site-packages (from requests~=2.16->msrest>=0.6.18->azure-storage-file-datalake) (2.9)\n",
      "Requirement already satisfied: urllib3!=1.25.0,!=1.25.1,<1.26,>=1.21.1 in /opt/app-root/lib/python3.6/site-packages (from requests~=2.16->msrest>=0.6.18->azure-storage-file-datalake) (1.25.8)\n",
      "Requirement already satisfied: chardet<4,>=3.0.2 in /opt/app-root/lib/python3.6/site-packages (from requests~=2.16->msrest>=0.6.18->azure-storage-file-datalake) (3.0.4)\n",
      "Requirement already satisfied: oauthlib>=3.0.0 in /opt/app-root/lib/python3.6/site-packages (from requests-oauthlib>=0.5.0->msrest>=0.6.18->azure-storage-file-datalake) (3.1.0)\n",
      "Requirement already satisfied: pycparser in /opt/app-root/lib/python3.6/site-packages (from cffi>=1.12->cryptography>=2.1.4->azure-identity) (2.20)\n",
      "\u001b[33mWARNING: You are using pip version 20.0.2; however, version 21.0.1 is available.\n",
      "You should consider upgrading via the '/opt/app-root/bin/python3 -m pip install --upgrade pip' command.\u001b[0m\n",
      "Note: you may need to restart the kernel to use updated packages.\n"
     ]
    }
   ],
   "source": [
    "pip install azure-storage-file-datalake azure-identity azure-storage-blob"
   ]
  },
  {
   "cell_type": "code",
   "execution_count": null,
   "metadata": {},
   "outputs": [],
   "source": [
    "import os, uuid, sys\n",
    "from azure.identity import ClientSecretCredential\n",
    "from azure.storage.filedatalake import DataLakeServiceClient\n",
    "from azure.core._match_conditions import MatchConditions\n",
    "from azure.storage.filedatalake._models import ContentSettings\n",
    "\n",
    "def initialize_storage_account_ad(storage_account_name, client_id, client_secret, tenant_id):\n",
    "    \n",
    "    try:  \n",
    "        global service_client\n",
    "\n",
    "        credential = ClientSecretCredential(tenant_id, client_id, client_secret)\n",
    "\n",
    "        service_client = DataLakeServiceClient(account_url=\"{}://{}.dfs.core.windows.net\".format(\n",
    "            \"https\", storage_account_name), credential=credential)\n",
    "    \n",
    "    except Exception as e:\n",
    "        print(e)\n",
    "        \n",
    "def download_file_from_directory():\n",
    "    try:\n",
    "        file_system_client = service_client.get_file_system_client(file_system=\"mycontainer\")\n",
    "        directory_client = file_system_client.get_directory_client(\"sample\")\n",
    "        \n",
    "        local_file = open(\"iris.data\",'wb')\n",
    "\n",
    "        file_client = directory_client.get_file_client(\"iris.data\")\n",
    "\n",
    "        download = file_client.download_file()\n",
    "\n",
    "        downloaded_bytes = download.readall()\n",
    "\n",
    "        local_file.write(downloaded_bytes)\n",
    "\n",
    "        local_file.close()\n",
    "\n",
    "    except Exception as e:\n",
    "     print(e)\n",
    "\n",
    "# Enter service principal credentials with access to storage account\n",
    "storage_account_name = \"\"\n",
    "client_id = \"\"\n",
    "client_secret = \"\"\n",
    "tenant_id = \"\"\n",
    "\n",
    "# Initialize and download dataset\n",
    "initialize_storage_account_ad(storage_account_name, client_id, client_secret, tenant_id)\n",
    "download_file_from_directory()"
   ]
  },
  {
   "cell_type": "code",
   "execution_count": null,
   "metadata": {},
   "outputs": [],
   "source": [
    "import pandas as pd\n",
    "from sklearn import svm\n",
    "from joblib import dump, load\n",
    "\n",
    "# Read training data set\n",
    "train_df = pd.read_csv(\"iris.data\", header=None, names=[\"sepal_length\", \"sepal_width\", \"petal_length\", \"petal_width\", \"class\"])\n",
    "print(train_df.head())\n",
    "y = train_df.pop(\"class\").values\n",
    "X = train_df.values\n",
    "\n",
    "# Train model\n",
    "clf = svm.SVC()\n",
    "clf.fit(X,y)\n",
    "\n",
    "# Save model to local disk\n",
    "dump(clf, 'model.joblib')"
   ]
  },
  {
   "cell_type": "code",
   "execution_count": null,
   "metadata": {},
   "outputs": [],
   "source": [
    "# Save model to Azure blob storage\n",
    "\n",
    "import os, uuid\n",
    "from azure.storage.blob import BlobServiceClient, BlobClient, ContainerClient, __version__\n",
    "\n",
    "container_name = \"mycontainer\"\n",
    "local_file_name = \"model.joblib\"\n",
    "\n",
    "try:\n",
    "    connect_str = \"\"\n",
    "    blob_service_client = BlobServiceClient.from_connection_string(connect_str)\n",
    "    blob_client = blob_service_client.get_blob_client(container=container_name, blob=local_file_name)\n",
    "\n",
    "    print(\"\\nUploading to Azure Storage as blob:\\n\\t\" + local_file_name)\n",
    "\n",
    "    # Upload the created file\n",
    "    with open(local_file_name, \"rb\") as data:\n",
    "        blob_client.upload_blob(data)\n",
    "    \n",
    "except Exception as ex:\n",
    "    print('Exception:')\n",
    "    print(ex)"
   ]
  },
  {
   "cell_type": "code",
   "execution_count": null,
   "metadata": {},
   "outputs": [],
   "source": [
    "# Run model in Seldon\n",
    "\n",
    "# Test model\n",
    "print(clf.predict(X[0:2]))\n",
    "print(X[0:2])\n",
    "\n",
    "# Test model in Seldon\n",
    "\n"
   ]
  }
 ],
 "metadata": {
  "kernelspec": {
   "display_name": "Python 3",
   "language": "python",
   "name": "python3"
  },
  "language_info": {
   "codemirror_mode": {
    "name": "ipython",
    "version": 3
   },
   "file_extension": ".py",
   "mimetype": "text/x-python",
   "name": "python",
   "nbconvert_exporter": "python",
   "pygments_lexer": "ipython3",
   "version": "3.6.9"
  }
 },
 "nbformat": 4,
 "nbformat_minor": 4
}
